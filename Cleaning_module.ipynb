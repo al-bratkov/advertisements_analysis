{
 "cells": [
  {
   "cell_type": "markdown",
   "id": "afc136b7",
   "metadata": {},
   "source": [
    "Результат парсинга данных находится в файле auto.csv. Перед тем как загружать данные в базу данных их необходимо проверить и почистить "
   ]
  },
  {
   "cell_type": "code",
   "execution_count": 1,
   "id": "28930717",
   "metadata": {},
   "outputs": [
    {
     "name": "stdout",
     "output_type": "stream",
     "text": [
      "Requirement already satisfied: pandas in c:\\users\\александр\\appdata\\local\\programs\\python\\python39\\lib\\site-packages (2.1.0)\n",
      "Requirement already satisfied: numpy>=1.22.4 in c:\\users\\александр\\appdata\\local\\programs\\python\\python39\\lib\\site-packages (from pandas) (1.26.0)\n",
      "Requirement already satisfied: python-dateutil>=2.8.2 in c:\\users\\александр\\appdata\\local\\programs\\python\\python39\\lib\\site-packages (from pandas) (2.8.2)\n",
      "Requirement already satisfied: pytz>=2020.1 in c:\\users\\александр\\appdata\\local\\programs\\python\\python39\\lib\\site-packages (from pandas) (2023.3.post1)\n",
      "Requirement already satisfied: tzdata>=2022.1 in c:\\users\\александр\\appdata\\local\\programs\\python\\python39\\lib\\site-packages (from pandas) (2023.3)\n",
      "Requirement already satisfied: six>=1.5 in c:\\users\\александр\\appdata\\local\\programs\\python\\python39\\lib\\site-packages (from python-dateutil>=2.8.2->pandas) (1.16.0)\n",
      "Note: you may need to restart the kernel to use updated packages.\n"
     ]
    }
   ],
   "source": [
    "pip install pandas"
   ]
  },
  {
   "cell_type": "code",
   "execution_count": 2,
   "id": "db4f3219",
   "metadata": {},
   "outputs": [
    {
     "name": "stdout",
     "output_type": "stream",
     "text": [
      "Requirement already satisfied: transliterate in c:\\users\\александр\\appdata\\local\\programs\\python\\python39\\lib\\site-packages (1.10.2)\n",
      "Requirement already satisfied: six>=1.1.0 in c:\\users\\александр\\appdata\\local\\programs\\python\\python39\\lib\\site-packages (from transliterate) (1.16.0)\n",
      "Note: you may need to restart the kernel to use updated packages.\n"
     ]
    }
   ],
   "source": [
    "pip install transliterate"
   ]
  },
  {
   "cell_type": "code",
   "execution_count": 3,
   "id": "dc6649de",
   "metadata": {},
   "outputs": [
    {
     "name": "stdout",
     "output_type": "stream",
     "text": [
      "Requirement already satisfied: scikit-learn in c:\\users\\александр\\appdata\\local\\programs\\python\\python39\\lib\\site-packages (1.3.1)\n",
      "Requirement already satisfied: numpy<2.0,>=1.17.3 in c:\\users\\александр\\appdata\\local\\programs\\python\\python39\\lib\\site-packages (from scikit-learn) (1.26.0)\n",
      "Requirement already satisfied: scipy>=1.5.0 in c:\\users\\александр\\appdata\\local\\programs\\python\\python39\\lib\\site-packages (from scikit-learn) (1.11.2)\n",
      "Requirement already satisfied: joblib>=1.1.1 in c:\\users\\александр\\appdata\\local\\programs\\python\\python39\\lib\\site-packages (from scikit-learn) (1.3.2)\n",
      "Requirement already satisfied: threadpoolctl>=2.0.0 in c:\\users\\александр\\appdata\\local\\programs\\python\\python39\\lib\\site-packages (from scikit-learn) (3.2.0)\n",
      "Note: you may need to restart the kernel to use updated packages.\n"
     ]
    }
   ],
   "source": [
    "pip install scikit-learn"
   ]
  },
  {
   "cell_type": "code",
   "execution_count": 4,
   "id": "0505aec1",
   "metadata": {},
   "outputs": [
    {
     "name": "stdout",
     "output_type": "stream",
     "text": [
      "Requirement already satisfied: seaborn in c:\\users\\александр\\appdata\\local\\programs\\python\\python39\\lib\\site-packages (0.12.2)\n",
      "Requirement already satisfied: numpy!=1.24.0,>=1.17 in c:\\users\\александр\\appdata\\local\\programs\\python\\python39\\lib\\site-packages (from seaborn) (1.26.0)\n",
      "Requirement already satisfied: pandas>=0.25 in c:\\users\\александр\\appdata\\local\\programs\\python\\python39\\lib\\site-packages (from seaborn) (2.1.0)\n",
      "Requirement already satisfied: matplotlib!=3.6.1,>=3.1 in c:\\users\\александр\\appdata\\local\\programs\\python\\python39\\lib\\site-packages (from seaborn) (3.8.0)\n",
      "Requirement already satisfied: contourpy>=1.0.1 in c:\\users\\александр\\appdata\\local\\programs\\python\\python39\\lib\\site-packages (from matplotlib!=3.6.1,>=3.1->seaborn) (1.1.1)\n",
      "Requirement already satisfied: cycler>=0.10 in c:\\users\\александр\\appdata\\local\\programs\\python\\python39\\lib\\site-packages (from matplotlib!=3.6.1,>=3.1->seaborn) (0.11.0)\n",
      "Requirement already satisfied: fonttools>=4.22.0 in c:\\users\\александр\\appdata\\local\\programs\\python\\python39\\lib\\site-packages (from matplotlib!=3.6.1,>=3.1->seaborn) (4.42.1)\n",
      "Requirement already satisfied: kiwisolver>=1.0.1 in c:\\users\\александр\\appdata\\local\\programs\\python\\python39\\lib\\site-packages (from matplotlib!=3.6.1,>=3.1->seaborn) (1.4.5)\n",
      "Requirement already satisfied: packaging>=20.0 in c:\\users\\александр\\appdata\\local\\programs\\python\\python39\\lib\\site-packages (from matplotlib!=3.6.1,>=3.1->seaborn) (23.1)\n",
      "Requirement already satisfied: pillow>=6.2.0 in c:\\users\\александр\\appdata\\local\\programs\\python\\python39\\lib\\site-packages (from matplotlib!=3.6.1,>=3.1->seaborn) (10.0.1)\n",
      "Requirement already satisfied: pyparsing>=2.3.1 in c:\\users\\александр\\appdata\\local\\programs\\python\\python39\\lib\\site-packages (from matplotlib!=3.6.1,>=3.1->seaborn) (2.4.7)\n",
      "Requirement already satisfied: python-dateutil>=2.7 in c:\\users\\александр\\appdata\\local\\programs\\python\\python39\\lib\\site-packages (from matplotlib!=3.6.1,>=3.1->seaborn) (2.8.2)\n",
      "Requirement already satisfied: importlib-resources>=3.2.0 in c:\\users\\александр\\appdata\\local\\programs\\python\\python39\\lib\\site-packages (from matplotlib!=3.6.1,>=3.1->seaborn) (6.1.0)\n",
      "Requirement already satisfied: pytz>=2020.1 in c:\\users\\александр\\appdata\\local\\programs\\python\\python39\\lib\\site-packages (from pandas>=0.25->seaborn) (2023.3.post1)\n",
      "Requirement already satisfied: tzdata>=2022.1 in c:\\users\\александр\\appdata\\local\\programs\\python\\python39\\lib\\site-packages (from pandas>=0.25->seaborn) (2023.3)\n",
      "Requirement already satisfied: zipp>=3.1.0 in c:\\users\\александр\\appdata\\local\\programs\\python\\python39\\lib\\site-packages (from importlib-resources>=3.2.0->matplotlib!=3.6.1,>=3.1->seaborn) (3.10.0)\n",
      "Requirement already satisfied: six>=1.5 in c:\\users\\александр\\appdata\\local\\programs\\python\\python39\\lib\\site-packages (from python-dateutil>=2.7->matplotlib!=3.6.1,>=3.1->seaborn) (1.16.0)\n",
      "Note: you may need to restart the kernel to use updated packages.\n"
     ]
    }
   ],
   "source": [
    "pip install seaborn"
   ]
  },
  {
   "cell_type": "code",
   "execution_count": 5,
   "id": "0161202d",
   "metadata": {},
   "outputs": [
    {
     "name": "stdout",
     "output_type": "stream",
     "text": [
      "Requirement already satisfied: matplotlib in c:\\users\\александр\\appdata\\local\\programs\\python\\python39\\lib\\site-packages (3.8.0)\n",
      "Requirement already satisfied: contourpy>=1.0.1 in c:\\users\\александр\\appdata\\local\\programs\\python\\python39\\lib\\site-packages (from matplotlib) (1.1.1)\n",
      "Requirement already satisfied: cycler>=0.10 in c:\\users\\александр\\appdata\\local\\programs\\python\\python39\\lib\\site-packages (from matplotlib) (0.11.0)\n",
      "Requirement already satisfied: fonttools>=4.22.0 in c:\\users\\александр\\appdata\\local\\programs\\python\\python39\\lib\\site-packages (from matplotlib) (4.42.1)\n",
      "Requirement already satisfied: kiwisolver>=1.0.1 in c:\\users\\александр\\appdata\\local\\programs\\python\\python39\\lib\\site-packages (from matplotlib) (1.4.5)\n",
      "Requirement already satisfied: numpy<2,>=1.21 in c:\\users\\александр\\appdata\\local\\programs\\python\\python39\\lib\\site-packages (from matplotlib) (1.26.0)\n",
      "Requirement already satisfied: packaging>=20.0 in c:\\users\\александр\\appdata\\local\\programs\\python\\python39\\lib\\site-packages (from matplotlib) (23.1)\n",
      "Requirement already satisfied: pillow>=6.2.0 in c:\\users\\александр\\appdata\\local\\programs\\python\\python39\\lib\\site-packages (from matplotlib) (10.0.1)\n",
      "Requirement already satisfied: pyparsing>=2.3.1 in c:\\users\\александр\\appdata\\local\\programs\\python\\python39\\lib\\site-packages (from matplotlib) (2.4.7)\n",
      "Requirement already satisfied: python-dateutil>=2.7 in c:\\users\\александр\\appdata\\local\\programs\\python\\python39\\lib\\site-packages (from matplotlib) (2.8.2)\n",
      "Requirement already satisfied: importlib-resources>=3.2.0 in c:\\users\\александр\\appdata\\local\\programs\\python\\python39\\lib\\site-packages (from matplotlib) (6.1.0)\n",
      "Requirement already satisfied: zipp>=3.1.0 in c:\\users\\александр\\appdata\\local\\programs\\python\\python39\\lib\\site-packages (from importlib-resources>=3.2.0->matplotlib) (3.10.0)\n",
      "Requirement already satisfied: six>=1.5 in c:\\users\\александр\\appdata\\local\\programs\\python\\python39\\lib\\site-packages (from python-dateutil>=2.7->matplotlib) (1.16.0)\n",
      "Note: you may need to restart the kernel to use updated packages.\n"
     ]
    }
   ],
   "source": [
    "pip install matplotlib"
   ]
  },
  {
   "cell_type": "code",
   "execution_count": 6,
   "id": "aac1797e",
   "metadata": {},
   "outputs": [],
   "source": [
    "import pandas as pd\n",
    "import numpy as np\n",
    "import requests\n",
    "import json\n",
    "import transliterate as trsl\n",
    "import re\n",
    "from sklearn.linear_model import LinearRegression, SGDClassifier\n",
    "import seaborn as sns\n",
    "import matplotlib.pyplot as plt"
   ]
  },
  {
   "cell_type": "code",
   "execution_count": 7,
   "id": "51ee5b77",
   "metadata": {},
   "outputs": [],
   "source": [
    "def translate(text, IAM_TOKEN, folder_id):\n",
    "    \"\"\"\n",
    "    Translates text from url with Yandex translate API.\n",
    "    More information how to use it: https://cloud.yandex.ru/docs/translate/api-ref/authentication\n",
    "    :param text: string for translating\n",
    "    :param IAM_TOKEN: Token getting on Yandex Cloud. Need to enter 'yc iam create-token' in cmd to get IAM token\n",
    "    :param folder_id: id of a folder on Yandex Cloud\n",
    "    :return: Translated text\n",
    "    \"\"\"\n",
    "    target_language = 'ru'\n",
    "    body = {\"targetLanguageCode\": target_language,\n",
    "            \"texts\": text,\n",
    "            \"folderId\": folder_id,}\n",
    "    headers = {\"Content-Type\": \"application/json\",\n",
    "               \"Authorization\": \"Bearer {0}\".format(IAM_TOKEN)}\n",
    "    response = requests.post('https://translate.api.cloud.yandex.net/translate/v2/translate',\n",
    "                             json=body,\n",
    "                             headers=headers)\n",
    "    res = json.loads(response.text)\n",
    "    return res[\"translations\"][0][\"text\"].title()"
   ]
  },
  {
   "cell_type": "code",
   "execution_count": 8,
   "id": "ae9fe45b",
   "metadata": {},
   "outputs": [],
   "source": [
    "IAM_TOKEN = \"\"  # Token getting on Yandex Cloud. Need to enter 'yc iam create-token' in cmd to get IAM token\n",
    "folder_id = \"\"  # id of a folder on Yandex Cloud"
   ]
  },
  {
   "cell_type": "code",
   "execution_count": 9,
   "id": "5353db30",
   "metadata": {},
   "outputs": [],
   "source": [
    "regions = {'01': 'Республика Адыгея', '02': 'Республика Башкортостан', '03': 'Республика Бурятия',\n",
    "           '04': 'Республика Алтай (Горный Алтай)', '05': 'Республика Дагестан', '06': 'Республика Ингушетия',\n",
    "           '07': 'Кабардино-Балкарская Республика', '08': 'Республика Калмыкия', '09': 'Карачаево-Черкесская Республика',\n",
    "           '10': 'Республика Карелия', '11': 'Республика Коми', '12': 'Республика Марий Эл', '13': 'Республика Мордовия',\n",
    "           '14': 'Республика Саха (Якутия)', '15': 'Республика Северная Осетия — Алания', '16': 'Республика Татарстан',\n",
    "           '17': 'Республика Тыва', '18': 'Удмуртская Республика', '19': 'Республика Хакасия', '21': 'Чувашская Республика',\n",
    "           '22': 'Алтайский край', '23': 'Краснодарский край', '24': 'Красноярский край', '25': 'Приморский край',\n",
    "           '26': 'Ставропольский край', '27': 'Хабаровский край', '28': 'Амурская область', '29': 'Архангельская область',\n",
    "           '30': 'Астраханская область', '31': 'Белгородская область', '32': 'Брянская область', '33': 'Владимирская область',\n",
    "           '34': 'Волгоградская область', '35': 'Вологодская область', '36': 'Воронежская область', '37': 'Ивановская область',\n",
    "           '38': 'Иркутская область', '39': 'Калининградская область', '40': 'Калужская область', '41': 'Камчатский край',\n",
    "           '42': 'Кемеровская область', '43': 'Кировская область', '44': 'Костромская область', '45': 'Курганская область',\n",
    "           '46': 'Курская область', '47': 'Ленинградская область', '48': 'Липецкая область', '49': 'Магаданская область',\n",
    "           '50': 'Московская область', '51': 'Мурманская область', '52': 'Нижегородская область', '53': 'Новгородская область',\n",
    "           '54': 'Новосибирская область', '55': 'Омская область', '56': 'Оренбургская область', '57': 'Орловская область',\n",
    "           '58': 'Пензенская область', '59': 'Пермский край', '60': 'Псковская область', '61': 'Ростовская область',\n",
    "           '62': 'Рязанская область', '63': 'Самарская область', '64': 'Саратовская область', '65': 'Сахалинская область',\n",
    "           '66': 'Свердловская область', '67': 'Смоленская область', '68': 'Тамбовская область', '69': 'Тверская область',\n",
    "           '70': 'Томская область', '71': 'Тульская область', '72': 'Тюменская область', '73': 'Ульяновская область',\n",
    "           '74': 'Челябинская область', '75': 'Забайкальский край', '76': 'Ярославская область', '77': 'Москва',\n",
    "           '78': 'Санкт-Петербург', '79': 'Еврейская автономная область', '82': 'Республика Крым',\n",
    "           '83': 'Ненецкий автономный округ', '86': 'Ханты-Мансийский автономный округ — Югра',\n",
    "           '87': 'Чукотский автономный округ', '89': 'Ямало-Ненецкий автономный округ', '92': 'Севастополь',\n",
    "           '94': 'Территории за пределами РФ, обслуживаемые Департаментом режимных объектов МВД России',\n",
    "           '95': 'Чеченская Республика'}"
   ]
  },
  {
   "cell_type": "code",
   "execution_count": 10,
   "id": "fc21e5f3",
   "metadata": {},
   "outputs": [],
   "source": [
    "cities_db = pd.read_csv(\"cities.csv\", sep=\";\", encoding=\"utf-8\")"
   ]
  },
  {
   "cell_type": "code",
   "execution_count": 11,
   "id": "94d974e8",
   "metadata": {},
   "outputs": [],
   "source": [
    "df = pd.read_csv(\"auto.csv\", sep=\";\", encoding=\"utf-8\")"
   ]
  },
  {
   "cell_type": "code",
   "execution_count": 12,
   "id": "20b25bb8",
   "metadata": {},
   "outputs": [
    {
     "data": {
      "text/html": [
       "<div>\n",
       "<style scoped>\n",
       "    .dataframe tbody tr th:only-of-type {\n",
       "        vertical-align: middle;\n",
       "    }\n",
       "\n",
       "    .dataframe tbody tr th {\n",
       "        vertical-align: top;\n",
       "    }\n",
       "\n",
       "    .dataframe thead th {\n",
       "        text-align: right;\n",
       "    }\n",
       "</style>\n",
       "<table border=\"1\" class=\"dataframe\">\n",
       "  <thead>\n",
       "    <tr style=\"text-align: right;\">\n",
       "      <th></th>\n",
       "      <th>vin</th>\n",
       "      <th>is_owner</th>\n",
       "      <th>is_promo</th>\n",
       "      <th>region</th>\n",
       "      <th>city</th>\n",
       "      <th>brand</th>\n",
       "      <th>model</th>\n",
       "      <th>year</th>\n",
       "      <th>mileage</th>\n",
       "      <th>count_owners</th>\n",
       "      <th>...</th>\n",
       "      <th>body_type</th>\n",
       "      <th>modification</th>\n",
       "      <th>num_doors</th>\n",
       "      <th>gearbox_type</th>\n",
       "      <th>wheel_drive</th>\n",
       "      <th>steering_wheel</th>\n",
       "      <th>link</th>\n",
       "      <th>ad_date</th>\n",
       "      <th>avito_id</th>\n",
       "      <th>model_uid</th>\n",
       "    </tr>\n",
       "  </thead>\n",
       "  <tbody>\n",
       "    <tr>\n",
       "      <th>0</th>\n",
       "      <td>NaN</td>\n",
       "      <td>True</td>\n",
       "      <td>NaN</td>\n",
       "      <td>Владимирская область</td>\n",
       "      <td>Владимир</td>\n",
       "      <td>ВАЗ (LADA)</td>\n",
       "      <td>Granta</td>\n",
       "      <td>2014.0</td>\n",
       "      <td>57770.0</td>\n",
       "      <td>3</td>\n",
       "      <td>...</td>\n",
       "      <td>Седан</td>\n",
       "      <td>1.6 MT (82 л.с.)</td>\n",
       "      <td>4.0</td>\n",
       "      <td>Механика</td>\n",
       "      <td>Передний</td>\n",
       "      <td>Левый</td>\n",
       "      <td>https://www.avito.ru/vladimir/avtomobili/vaz_l...</td>\n",
       "      <td>2023-08-13</td>\n",
       "      <td>3.145463e+09</td>\n",
       "      <td>0QPyxtx</td>\n",
       "    </tr>\n",
       "    <tr>\n",
       "      <th>1</th>\n",
       "      <td>NaN</td>\n",
       "      <td>True</td>\n",
       "      <td>NaN</td>\n",
       "      <td>Владимирская область</td>\n",
       "      <td>Александровский р-н</td>\n",
       "      <td>ВАЗ (LADA)</td>\n",
       "      <td>2109</td>\n",
       "      <td>1991.0</td>\n",
       "      <td>145000.0</td>\n",
       "      <td>2</td>\n",
       "      <td>...</td>\n",
       "      <td>Хетчбэк</td>\n",
       "      <td>1.3 MT (64 л.с.)</td>\n",
       "      <td>5.0</td>\n",
       "      <td>Механика</td>\n",
       "      <td>Передний</td>\n",
       "      <td>Левый</td>\n",
       "      <td>https://www.avito.ru/aleksandrov/avtomobili/va...</td>\n",
       "      <td>2023-08-13</td>\n",
       "      <td>3.270866e+09</td>\n",
       "      <td>EXy5PHk</td>\n",
       "    </tr>\n",
       "    <tr>\n",
       "      <th>2</th>\n",
       "      <td>NaN</td>\n",
       "      <td>True</td>\n",
       "      <td>NaN</td>\n",
       "      <td>Владимирская область</td>\n",
       "      <td>Ковров</td>\n",
       "      <td>ВАЗ (LADA)</td>\n",
       "      <td>2115 Samara</td>\n",
       "      <td>2006.0</td>\n",
       "      <td>230000.0</td>\n",
       "      <td>4+</td>\n",
       "      <td>...</td>\n",
       "      <td>Седан</td>\n",
       "      <td>1.5 MT (76 л.с.)</td>\n",
       "      <td>4.0</td>\n",
       "      <td>Механика</td>\n",
       "      <td>Передний</td>\n",
       "      <td>Левый</td>\n",
       "      <td>https://www.avito.ru/kovrov/avtomobili/vaz_lad...</td>\n",
       "      <td>2023-08-13</td>\n",
       "      <td>3.166892e+09</td>\n",
       "      <td>3EvvVFx</td>\n",
       "    </tr>\n",
       "    <tr>\n",
       "      <th>3</th>\n",
       "      <td>NaN</td>\n",
       "      <td>False</td>\n",
       "      <td>NaN</td>\n",
       "      <td>Владимирская область</td>\n",
       "      <td>Владимир</td>\n",
       "      <td>ВАЗ (LADA)</td>\n",
       "      <td>Priora</td>\n",
       "      <td>2009.0</td>\n",
       "      <td>156500.0</td>\n",
       "      <td>4+</td>\n",
       "      <td>...</td>\n",
       "      <td>Седан</td>\n",
       "      <td>1.6 MT (98 л.с.)</td>\n",
       "      <td>4.0</td>\n",
       "      <td>Механика</td>\n",
       "      <td>Передний</td>\n",
       "      <td>Левый</td>\n",
       "      <td>https://www.avito.ru/vladimir/avtomobili/vaz_l...</td>\n",
       "      <td>2023-08-13</td>\n",
       "      <td>3.265563e+09</td>\n",
       "      <td>o2drKfx</td>\n",
       "    </tr>\n",
       "    <tr>\n",
       "      <th>4</th>\n",
       "      <td>NaN</td>\n",
       "      <td>False</td>\n",
       "      <td>NaN</td>\n",
       "      <td>Владимирская область</td>\n",
       "      <td>Владимир</td>\n",
       "      <td>УАЗ</td>\n",
       "      <td>Patriot</td>\n",
       "      <td>2023.0</td>\n",
       "      <td>134000.0</td>\n",
       "      <td>1</td>\n",
       "      <td>...</td>\n",
       "      <td>Внедорожник</td>\n",
       "      <td>2.7 MT (135 л.с.)</td>\n",
       "      <td>5.0</td>\n",
       "      <td>Механика</td>\n",
       "      <td>Полный</td>\n",
       "      <td>Левый</td>\n",
       "      <td>https://www.avito.ru/vladimir/avtomobili/uaz_p...</td>\n",
       "      <td>2023-08-07</td>\n",
       "      <td>3.184416e+09</td>\n",
       "      <td>5ZdnrHx</td>\n",
       "    </tr>\n",
       "  </tbody>\n",
       "</table>\n",
       "<p>5 rows × 28 columns</p>\n",
       "</div>"
      ],
      "text/plain": [
       "   vin is_owner  is_promo                region                 city  \\\n",
       "0  NaN     True       NaN  Владимирская область             Владимир   \n",
       "1  NaN     True       NaN  Владимирская область  Александровский р-н   \n",
       "2  NaN     True       NaN  Владимирская область               Ковров   \n",
       "3  NaN    False       NaN  Владимирская область             Владимир   \n",
       "4  NaN    False       NaN  Владимирская область             Владимир   \n",
       "\n",
       "        brand        model    year   mileage count_owners  ...    body_type  \\\n",
       "0  ВАЗ (LADA)       Granta  2014.0   57770.0            3  ...        Седан   \n",
       "1  ВАЗ (LADA)         2109  1991.0  145000.0            2  ...      Хетчбэк   \n",
       "2  ВАЗ (LADA)  2115 Samara  2006.0  230000.0           4+  ...        Седан   \n",
       "3  ВАЗ (LADA)       Priora  2009.0  156500.0           4+  ...        Седан   \n",
       "4         УАЗ      Patriot  2023.0  134000.0            1  ...  Внедорожник   \n",
       "\n",
       "        modification  num_doors  gearbox_type wheel_drive  steering_wheel  \\\n",
       "0   1.6 MT (82 л.с.)        4.0      Механика    Передний           Левый   \n",
       "1   1.3 MT (64 л.с.)        5.0      Механика    Передний           Левый   \n",
       "2   1.5 MT (76 л.с.)        4.0      Механика    Передний           Левый   \n",
       "3   1.6 MT (98 л.с.)        4.0      Механика    Передний           Левый   \n",
       "4  2.7 MT (135 л.с.)        5.0      Механика      Полный           Левый   \n",
       "\n",
       "                                                link     ad_date  \\\n",
       "0  https://www.avito.ru/vladimir/avtomobili/vaz_l...  2023-08-13   \n",
       "1  https://www.avito.ru/aleksandrov/avtomobili/va...  2023-08-13   \n",
       "2  https://www.avito.ru/kovrov/avtomobili/vaz_lad...  2023-08-13   \n",
       "3  https://www.avito.ru/vladimir/avtomobili/vaz_l...  2023-08-13   \n",
       "4  https://www.avito.ru/vladimir/avtomobili/uaz_p...  2023-08-07   \n",
       "\n",
       "       avito_id model_uid  \n",
       "0  3.145463e+09   0QPyxtx  \n",
       "1  3.270866e+09   EXy5PHk  \n",
       "2  3.166892e+09   3EvvVFx  \n",
       "3  3.265563e+09   o2drKfx  \n",
       "4  3.184416e+09   5ZdnrHx  \n",
       "\n",
       "[5 rows x 28 columns]"
      ]
     },
     "execution_count": 12,
     "metadata": {},
     "output_type": "execute_result"
    }
   ],
   "source": [
    "df.head()"
   ]
  },
  {
   "cell_type": "code",
   "execution_count": 13,
   "id": "ea500198",
   "metadata": {},
   "outputs": [
    {
     "data": {
      "text/plain": [
       "(6189, 28)"
      ]
     },
     "execution_count": 13,
     "metadata": {},
     "output_type": "execute_result"
    }
   ],
   "source": [
    "df.shape"
   ]
  },
  {
   "cell_type": "markdown",
   "id": "28eae524",
   "metadata": {},
   "source": [
    "В ходе отбора возникали непредвиденные ошибки, которые могли привести к поялению пустых записей. Также некоторое время некорректно работал алгоритм проверки объявления на то, имеется ли оно уже в базе данных и в файле csv. Исключим дубликаты и пустые строки"
   ]
  },
  {
   "cell_type": "code",
   "execution_count": 14,
   "id": "7b562802",
   "metadata": {},
   "outputs": [
    {
     "data": {
      "text/plain": [
       "(4363, 28)"
      ]
     },
     "execution_count": 14,
     "metadata": {},
     "output_type": "execute_result"
    }
   ],
   "source": [
    "df.drop(df[df.isna().all(1)].index, inplace=True)  # delete rows with all NaN\n",
    "df.drop_duplicates(\"avito_id\", inplace=True)\n",
    "df.shape"
   ]
  },
  {
   "cell_type": "markdown",
   "id": "e946f9c2",
   "metadata": {},
   "source": [
    "Как видно, таких строк оказалось больше четверти. \n",
    "Проверим строки на наличие пустых значений"
   ]
  },
  {
   "cell_type": "code",
   "execution_count": 15,
   "id": "60389cb3",
   "metadata": {
    "scrolled": true
   },
   "outputs": [
    {
     "data": {
      "text/plain": [
       "vin               4363\n",
       "is_owner             0\n",
       "is_promo          4363\n",
       "region               0\n",
       "city                35\n",
       "brand                0\n",
       "model                0\n",
       "year                 0\n",
       "mileage              0\n",
       "count_owners         0\n",
       "air_condition        0\n",
       "color                0\n",
       "price                0\n",
       "en_capacity          0\n",
       "en_type              0\n",
       "en_power             0\n",
       "num_cylinders      277\n",
       "fuel_waste_mix     659\n",
       "body_type            0\n",
       "modification         0\n",
       "num_doors            0\n",
       "gearbox_type         0\n",
       "wheel_drive         33\n",
       "steering_wheel       0\n",
       "link                 0\n",
       "ad_date              0\n",
       "avito_id             0\n",
       "model_uid            0\n",
       "dtype: int64"
      ]
     },
     "execution_count": 15,
     "metadata": {},
     "output_type": "execute_result"
    }
   ],
   "source": [
    "df.isna().sum()"
   ]
  },
  {
   "cell_type": "markdown",
   "id": "5dcf68d0",
   "metadata": {},
   "source": [
    "Поля vin и is_promo полностью заполнены нулями поскольку механизм отбора значений пока не реализован.\n",
    "Как видно, в некоторых модификациях отсутствует информация о городе, количестве цилиндров и типе привода (city, num_cilinders и wheel_drive). В нашем датасете мы рассматриваем только отечественные марки авто, не отличающиеся разнообразием в моделях двигателей и типах привода, поэтому пропробуем заполнить пустые значения, предполагая, что если прочие модификации конкретной модели имели одинаковое количество цилиндров и тип привода, то эти данные можно перенести в пустые значения"
   ]
  },
  {
   "cell_type": "code",
   "execution_count": 16,
   "id": "96d1fc16",
   "metadata": {},
   "outputs": [],
   "source": [
    "for col in [\"num_cylinders\", \"wheel_drive\"]:\n",
    "    rows_na_models = df[df[col].isna()][[\"brand\", \"model\"]].drop_duplicates()\n",
    "    for i in rows_na_models.index:\n",
    "        vals = df[(df[\"brand\"] == rows_na_models.loc[i, \"brand\"]) & (df[\"model\"] == rows_na_models.loc[i, \"model\"])][col]\n",
    "        if len(vals.unique()) == 2:\n",
    "            df.loc[vals[vals.isna()].index, col] = vals.unique()[~pd.isnull(vals.unique())][0]"
   ]
  },
  {
   "cell_type": "markdown",
   "id": "b511c852",
   "metadata": {},
   "source": [
    "Корректная информация о городе имеется в url (колонка link). Прочие значения в столбце city записаны на русском языке и если мы не хотим использовать английский, надо перевести город из url на русский. Для этого воспользуемся модулем transliterate и API яндекс-переводчика (для случаев, когда транслитерация не дала корректное значение)"
   ]
  },
  {
   "cell_type": "code",
   "execution_count": 17,
   "id": "1f42bf31",
   "metadata": {},
   "outputs": [
    {
     "name": "stderr",
     "output_type": "stream",
     "text": [
      "C:\\Users\\Александр\\AppData\\Local\\Temp\\ipykernel_13132\\395282792.py:2: SettingWithCopyWarning: \n",
      "A value is trying to be set on a copy of a slice from a DataFrame.\n",
      "Try using .loc[row_indexer,col_indexer] = value instead\n",
      "\n",
      "See the caveats in the documentation: https://pandas.pydata.org/pandas-docs/stable/user_guide/indexing.html#returning-a-view-versus-a-copy\n",
      "  empty_city.loc[:, \"new\"] = empty_city[\"link\"].str.split(\"/\").str[3].map(lambda x: trsl.translit(x, \"ru\"))\n"
     ]
    }
   ],
   "source": [
    "empty_city = df[df.loc[:, \"city\"].isna()]\n",
    "empty_city.loc[:, \"new\"] = empty_city[\"link\"].str.split(\"/\").str[3].map(lambda x: trsl.translit(x, \"ru\"))\n",
    "empty_city.loc[:, \"new\"] = empty_city.new.map(lambda word: word[:-1] + \"й\" if word[-2:] == \"ыы\" else word)\n",
    "empty_city.loc[:, \"new\"] = empty_city.new.map(lambda word: word[:-1] + \"й\" if word[-2:] == \"иы\" else word)\n",
    "empty_city.loc[:, \"new\"] = empty_city.new.map(lambda word: re.sub(r\"ыа\", \"я\", word))\n",
    "for i in empty_city.index:\n",
    "    if empty_city.loc[i, \"new\"].title() in cities_db:\n",
    "        df.loc[i, \"city\"] = empty_city.loc[i, \"new\"].title()\n",
    "    else:\n",
    "        real_city = translate(f'city \"{empty_city.loc[i, \"link\"].split(\"/\")[3].title()}\"', IAM_TOKEN, folder_id)[6:].strip('\"')\n",
    "        df.loc[i, \"city\"] = real_city"
   ]
  },
  {
   "cell_type": "code",
   "execution_count": 18,
   "id": "b58c22a8",
   "metadata": {},
   "outputs": [
    {
     "data": {
      "text/plain": [
       "vin               4363\n",
       "is_owner             0\n",
       "is_promo          4363\n",
       "region               0\n",
       "city                 0\n",
       "brand                0\n",
       "model                0\n",
       "year                 0\n",
       "mileage              0\n",
       "count_owners         0\n",
       "air_condition        0\n",
       "color                0\n",
       "price                0\n",
       "en_capacity          0\n",
       "en_type              0\n",
       "en_power             0\n",
       "num_cylinders      156\n",
       "fuel_waste_mix     659\n",
       "body_type            0\n",
       "modification         0\n",
       "num_doors            0\n",
       "gearbox_type         0\n",
       "wheel_drive          7\n",
       "steering_wheel       0\n",
       "link                 0\n",
       "ad_date              0\n",
       "avito_id             0\n",
       "model_uid            0\n",
       "dtype: int64"
      ]
     },
     "execution_count": 18,
     "metadata": {},
     "output_type": "execute_result"
    }
   ],
   "source": [
    "df.isna().sum()"
   ]
  },
  {
   "cell_type": "markdown",
   "id": "20167026",
   "metadata": {},
   "source": [
    "Осталось не так много пустых значений. Попробуем заполнить остальные пробелы, предсказав количество цилиндров и потребление топлива (num_cylinders, fuel_waste_mix. Предварительно проверим, имеется ли какая-то их зависимость от показателя объема двигателя"
   ]
  },
  {
   "cell_type": "code",
   "execution_count": 19,
   "id": "d092e67e",
   "metadata": {},
   "outputs": [
    {
     "data": {
      "text/plain": [
       "<seaborn.axisgrid.FacetGrid at 0x22c1dfe61c0>"
      ]
     },
     "execution_count": 19,
     "metadata": {},
     "output_type": "execute_result"
    },
    {
     "data": {
      "image/png": "[encoded data removed]",
      "text/plain": [
       "<Figure size 500x500 with 1 Axes>"
      ]
     },
     "metadata": {},
     "output_type": "display_data"
    }
   ],
   "source": [
    "sns.lmplot(df, x=\"en_capacity\", y=\"fuel_waste_mix\")"
   ]
  },
  {
   "cell_type": "markdown",
   "id": "94309e48",
   "metadata": {},
   "source": [
    "Как видно, на регрессионную прямую оказывают сильное влияние явно некорректно низкие значения меньше 2,5 л/100 км. Для исправления используем средний расход по модели"
   ]
  },
  {
   "cell_type": "code",
   "execution_count": 20,
   "id": "5038725c",
   "metadata": {},
   "outputs": [],
   "source": [
    "wrong_waste = df[df.fuel_waste_mix < 2.5]\n",
    "right_waste = df[df.fuel_waste_mix > 2.5]\n",
    "for i in wrong_waste.index:\n",
    "    brand = wrong_waste.loc[i, \"brand\"]\n",
    "    model = wrong_waste.loc[i, \"model\"]\n",
    "    df.loc[i, \"fuel_waste_mix\"] = round(right_waste[(right_waste.brand == brand) & \n",
    "                                                    (right_waste.model == model)].fuel_waste_mix.mean(), 2)"
   ]
  },
  {
   "cell_type": "code",
   "execution_count": 21,
   "id": "5497173d",
   "metadata": {},
   "outputs": [
    {
     "data": {
      "text/plain": [
       "<seaborn.axisgrid.FacetGrid at 0x22c2126c970>"
      ]
     },
     "execution_count": 21,
     "metadata": {},
     "output_type": "execute_result"
    },
    {
     "data": {
      "image/png": "[encoded data removed]",
      "text/plain": [
       "<Figure size 500x500 with 1 Axes>"
      ]
     },
     "metadata": {},
     "output_type": "display_data"
    }
   ],
   "source": [
    "sns.lmplot(df, x=\"en_capacity\", y=\"fuel_waste_mix\")"
   ]
  },
  {
   "cell_type": "markdown",
   "id": "c32855ca",
   "metadata": {},
   "source": [
    "После исправлений наблюдается довольно четкая положительная корреляция между объемом двигателя и расходом топлива. Применим линейную регрессию для заполнения пустых значений"
   ]
  },
  {
   "cell_type": "code",
   "execution_count": 22,
   "id": "41c711dd",
   "metadata": {},
   "outputs": [],
   "source": [
    "waste_na = df[df.fuel_waste_mix.isna()]\n",
    "waste_filled = df[~df.fuel_waste_mix.isna()]\n",
    "waste_na = waste_na[waste_na.en_capacity <= waste_filled.en_capacity.max()]\n",
    "linereg = LinearRegression()\n",
    "model = linereg.fit(waste_filled.en_capacity.values.reshape(-1, 1), waste_filled.fuel_waste_mix.values)\n",
    "waste_na.loc[:, \"fuel_waste_mix\"] = model.predict(waste_na.en_capacity.values.reshape(-1, 1))\n",
    "for i in waste_na.index:\n",
    "    df.loc[i, \"fuel_waste_mix\"] = round(waste_na.loc[i, \"fuel_waste_mix\"])"
   ]
  },
  {
   "cell_type": "code",
   "execution_count": 23,
   "id": "f92e986a",
   "metadata": {},
   "outputs": [
    {
     "name": "stderr",
     "output_type": "stream",
     "text": [
      "c:\\users\\александр\\appdata\\local\\programs\\python\\python39\\lib\\site-packages\\seaborn\\_oldcore.py:1498: FutureWarning: is_categorical_dtype is deprecated and will be removed in a future version. Use isinstance(dtype, CategoricalDtype) instead\n",
      "  if pd.api.types.is_categorical_dtype(vector):\n",
      "c:\\users\\александр\\appdata\\local\\programs\\python\\python39\\lib\\site-packages\\seaborn\\_oldcore.py:1498: FutureWarning: is_categorical_dtype is deprecated and will be removed in a future version. Use isinstance(dtype, CategoricalDtype) instead\n",
      "  if pd.api.types.is_categorical_dtype(vector):\n",
      "c:\\users\\александр\\appdata\\local\\programs\\python\\python39\\lib\\site-packages\\seaborn\\_oldcore.py:1498: FutureWarning: is_categorical_dtype is deprecated and will be removed in a future version. Use isinstance(dtype, CategoricalDtype) instead\n",
      "  if pd.api.types.is_categorical_dtype(vector):\n",
      "c:\\users\\александр\\appdata\\local\\programs\\python\\python39\\lib\\site-packages\\seaborn\\_oldcore.py:1498: FutureWarning: is_categorical_dtype is deprecated and will be removed in a future version. Use isinstance(dtype, CategoricalDtype) instead\n",
      "  if pd.api.types.is_categorical_dtype(vector):\n",
      "c:\\users\\александр\\appdata\\local\\programs\\python\\python39\\lib\\site-packages\\seaborn\\_oldcore.py:1498: FutureWarning: is_categorical_dtype is deprecated and will be removed in a future version. Use isinstance(dtype, CategoricalDtype) instead\n",
      "  if pd.api.types.is_categorical_dtype(vector):\n"
     ]
    },
    {
     "data": {
      "text/plain": [
       "<seaborn.axisgrid.FacetGrid at 0x22c21308a30>"
      ]
     },
     "execution_count": 23,
     "metadata": {},
     "output_type": "execute_result"
    },
    {
     "data": {
      "image/png": "[encoded data removed]",
      "text/plain": [
       "<Figure size 500x500 with 1 Axes>"
      ]
     },
     "metadata": {},
     "output_type": "display_data"
    }
   ],
   "source": [
    "sns.catplot(df, x=\"num_cylinders\", y=\"en_capacity\", kind=\"bar\")"
   ]
  },
  {
   "cell_type": "markdown",
   "id": "84f9d0d2",
   "metadata": {},
   "source": [
    "Объем двигателя растет при увеличении количества цилиндров. Применим линейную регрессию и с целью классификации"
   ]
  },
  {
   "cell_type": "code",
   "execution_count": 24,
   "id": "b2b129b2",
   "metadata": {},
   "outputs": [],
   "source": [
    "classifier = SGDClassifier()\n",
    "cyl_na = df[df.num_cylinders.isna()]\n",
    "cyl_filled = df[~df.num_cylinders.isna()]\n",
    "model = classifier.fit(cyl_filled.en_capacity.values.reshape(-1, 1), y=cyl_filled.num_cylinders.values)\n",
    "cyl_na.loc[:, \"num_cylinders\"] = model.predict(cyl_na.en_capacity.values.reshape(-1, 1))\n",
    "for i in cyl_na.index:\n",
    "    df.loc[i, \"num_cylinders\"] = cyl_na.loc[i, \"num_cylinders\"]"
   ]
  },
  {
   "cell_type": "code",
   "execution_count": 25,
   "id": "622a0f37",
   "metadata": {},
   "outputs": [
    {
     "data": {
      "text/plain": [
       "vin               4363\n",
       "is_owner             0\n",
       "is_promo          4363\n",
       "region               0\n",
       "city                 0\n",
       "brand                0\n",
       "model                0\n",
       "year                 0\n",
       "mileage              0\n",
       "count_owners         0\n",
       "air_condition        0\n",
       "color                0\n",
       "price                0\n",
       "en_capacity          0\n",
       "en_type              0\n",
       "en_power             0\n",
       "num_cylinders        0\n",
       "fuel_waste_mix       3\n",
       "body_type            0\n",
       "modification         0\n",
       "num_doors            0\n",
       "gearbox_type         0\n",
       "wheel_drive          7\n",
       "steering_wheel       0\n",
       "link                 0\n",
       "ad_date              0\n",
       "avito_id             0\n",
       "model_uid            0\n",
       "dtype: int64"
      ]
     },
     "execution_count": 25,
     "metadata": {},
     "output_type": "execute_result"
    }
   ],
   "source": [
    "df.isna().sum()"
   ]
  },
  {
   "cell_type": "markdown",
   "id": "fe2ed4b5",
   "metadata": {},
   "source": [
    "После всех преобразований пустых значений почти не осталось. Но датасет все еще имеет некоторые проблемы. Оценим распределение автомобилей по годам"
   ]
  },
  {
   "cell_type": "code",
   "execution_count": 26,
   "id": "8809bd49",
   "metadata": {},
   "outputs": [],
   "source": [
    "periods = pd.cut(df.year, [1900, 1980, 2000, 2010, 2015, 2020, 2024], include_lowest=True).value_counts(sort=False, normalize=True) * 100"
   ]
  },
  {
   "cell_type": "markdown",
   "id": "969aa5ca",
   "metadata": {},
   "source": [
    "Очень подозрительно, что почти 80% наших автомобилей 2023 года выпуска (год отбора информации), учитывая, что отбор проводился по поддержанным автомобилям. Это нерешенная проблема парсера, но нам опять может помочь url, в котором содержится заявленный год выпуска автомобиля"
   ]
  },
  {
   "cell_type": "code",
   "execution_count": 27,
   "id": "76d11b7d",
   "metadata": {},
   "outputs": [],
   "source": [
    "df[\"new\"] = df[\"link\"].str.split(\"/\").str[-1].str.split(\"_\")\n",
    "wrong_year_i = df[df[\"year\"] >= 2023]\n",
    "for i in wrong_year_i.index:\n",
    "    year_url = int(list(filter(lambda txt: len(txt) == 4 and txt.isdigit(), df.loc[i, \"new\"]))[-1])\n",
    "    df.loc[i, \"year\"] = year_url"
   ]
  },
  {
   "cell_type": "code",
   "execution_count": 28,
   "id": "7f56f8b0",
   "metadata": {},
   "outputs": [
    {
     "data": {
      "text/plain": [
       "year\n",
       "(1899.999, 1980.0]     1.031400\n",
       "(1980.0, 2000.0]       9.351364\n",
       "(2000.0, 2010.0]      38.345175\n",
       "(2010.0, 2015.0]      25.487050\n",
       "(2015.0, 2020.0]      19.848728\n",
       "(2020.0, 2024.0]       5.936282\n",
       "Name: proportion, dtype: float64"
      ]
     },
     "execution_count": 28,
     "metadata": {},
     "output_type": "execute_result"
    }
   ],
   "source": [
    "pd.cut(df.year, [1900, 1980, 2000, 2010, 2015, 2020, 2024], include_lowest=True).value_counts(sort=False, normalize=True) * 100"
   ]
  },
  {
   "cell_type": "markdown",
   "id": "59e2f647",
   "metadata": {},
   "source": [
    "Теперь распределение выглядит более похожим на реальность.\n",
    "Также много проблем имеется с регионами и городами. При этом регион является одним из важнейших показателей в будущем анализе датасета. В самом начале был определен словарь с названиями и кодами регионов. Проверим какие регионы не совпадают с ним"
   ]
  },
  {
   "cell_type": "code",
   "execution_count": 29,
   "id": "1e64efe0",
   "metadata": {},
   "outputs": [
    {
     "data": {
      "text/plain": [
       "array(['Иваново', 'Тверь', 'Ярославль', 'ул. Гоголя', 'Великий Новгород',\n",
       "       'ул. Ворошилова', 'Октябрьский район', 'Кострома',\n",
       "       'МЦД-2 Курско-Рижский диаметр', 'ул. Чкалова', 'Мурманск',\n",
       "       'Советская ул.', 'Первомайская ул.', 'Прудовая ул.', 'Лесной пр-т',\n",
       "       'Устиновский район', 'Воткинское ш.',\n",
       "       'ул. Строителя Николая Шишкина', 'Объячево', 'Оренбург',\n",
       "       'Шоссейная ул.', '49-50-й квартал', 'ул. Блюхера', 'Курган',\n",
       "       'ул. Маршала Чуйкова', 'пр-т Строителей', 'пр-т Химиков',\n",
       "       'ул. Цвиллинга', 'Кизильская ул.', 'Пермь', 'ул. Фрунзе',\n",
       "       'ул. Викулова', 'Тюмень', 'Тюменский район', 'ул. Ленина',\n",
       "       'Новосибирск', 'ул. Петухова', 'ул. 9-й Гвардейской Дивизии',\n",
       "       'Республика Алтай', 'Иркутск', 'ул. Дьяченко', 'А-331 Вилюй',\n",
       "       'Береговая ул.', 'Сибирская ул.', 'Нижний Новгород', 'Астрахань',\n",
       "       'ул. Карбышева', 'Омск', 'ул. Тухачевского', 'Тополиная ул.',\n",
       "       'Курск', 'ул. 60 лет Октября', 'пр-т Доватора', 'Россия',\n",
       "       'Республика Северная Осетия — Владикавказ',\n",
       "       'Республика Северная Осетия — Моздокский р-н', 'Дмитровское ш.',\n",
       "       'пр. Солдатских Матерей', 'Тула', 'Волгоград', 'Пролетарская ул.',\n",
       "       'Придорожный пер.', 'Брянск', 'Краснодар', 'пр-т 50 лет Октября',\n",
       "       'Р-132 Золотое кольцо', 'Смоленск', 'ул. Сурмача',\n",
       "       'ул. Энтузиастов', 'Песочная ул.', 'ул. Быковского',\n",
       "       'ул. 148-й Черниговской Дивизии', 'пл. имени Я.М. Свердлова',\n",
       "       'Северная ул.', 'Российская ул.', 'Челябинск',\n",
       "       'пл. Первооткрывателей Башкирской Нефти',\n",
       "       'пр-т Гагарина 4-я линия', 'ул. имени Сергея Есенина',\n",
       "       'ул. Шабалина', 'Республика Северная Осетия — Пригородный р-н',\n",
       "       'Ставрополь', 'Западная ул.', 'Юбилейная ул.', '3-й микрорайон',\n",
       "       'Московская ул.', 'Саратов'], dtype=object)"
      ]
     },
     "execution_count": 29,
     "metadata": {},
     "output_type": "execute_result"
    }
   ],
   "source": [
    "reg_names = regions.values()\n",
    "wrong_reg = df[~df[\"region\"].isin(reg_names)]\n",
    "wrong_reg.region.unique()    "
   ]
  },
  {
   "cell_type": "markdown",
   "id": "34c8c65e",
   "metadata": {},
   "source": [
    "Заметны несколько проблем:\n",
    "1. Регион в Осетии определяется как 'Республика Северная Осетия - какой-то район' \n",
    "2. Вместо региона - город. Вместо города - улица\n",
    "3. Вместо региона - улица. Город корректный\n",
    "4. Улица и номер дома вместо регисона и города\n",
    "\n",
    "Начнем с проблемы № 1"
   ]
  },
  {
   "cell_type": "code",
   "execution_count": 30,
   "id": "542d93a4",
   "metadata": {},
   "outputs": [],
   "source": [
    "wrong_reg.loc[:, \"new\"] = wrong_reg.region.str.split(\" — \").str[0]\n",
    "for reg in regions.values():\n",
    "    for name in wrong_reg.new.unique():\n",
    "        if reg.startswith(name):\n",
    "            i_short = wrong_reg[wrong_reg[\"new\"] == name].index\n",
    "            df.loc[i_short, \"region\"] = reg\n",
    "wrong_reg = df[~df[\"region\"].isin(reg_names)]\n",
    "right_reg = df[df[\"region\"].isin(reg_names)]\n",
    "correct_cities = right_reg[\"city\"].unique()\n",
    "correct_cities_db = cities_db[\"city\"].values\n",
    "correct_cities = np.unique(np.concatenate((correct_cities, correct_cities_db)))"
   ]
  },
  {
   "cell_type": "markdown",
   "id": "013e4445",
   "metadata": {},
   "source": [
    "Проблема № 2 решается с использованием города, подставляя соответствующий ему регион в той части базы данных, значения в которой корректны. Решение предполагает риск некорректного заполнения региона для названий тех городов, которые есть в разных регионах. Но риск некритичен. Похожим образом решается проблема № 3 поскольку имеется город"
   ]
  },
  {
   "cell_type": "code",
   "execution_count": 31,
   "id": "125a71d0",
   "metadata": {},
   "outputs": [],
   "source": [
    "reg_is_city = wrong_reg[wrong_reg[\"region\"].isin(correct_cities)]\n",
    "df.loc[reg_is_city.index, \"city\"] = df.loc[reg_is_city.index, \"region\"]\n",
    "for i in reg_is_city.index:\n",
    "    correct_reg = right_reg[right_reg[\"city\"] == reg_is_city.loc[i, \"region\"]][\"region\"].unique()\n",
    "    if len(correct_reg) == 1:\n",
    "        df.loc[i, \"region\"] = correct_reg[0]\n",
    "    elif len(correct_reg) == 0:\n",
    "        correct_reg = cities_db[cities_db[\"city\"] == reg_is_city.loc[i, \"region\"]][\"region_code\"].values\n",
    "        if len(correct_reg) == 1:\n",
    "            df.loc[i, \"region\"] = regions[str(correct_reg[0])]\n",
    "wrong_reg = df[~df[\"region\"].isin(reg_names)]\n",
    "right_reg = df[df[\"region\"].isin(reg_names)]"
   ]
  },
  {
   "cell_type": "code",
   "execution_count": 34,
   "id": "aec1f72d",
   "metadata": {},
   "outputs": [],
   "source": [
    "for i in wrong_reg.index:\n",
    "    i_city = np.where(correct_cities.astype(str) == wrong_reg.loc[i, \"city\"])[0]\n",
    "    if len(i_city) == 1:\n",
    "        df.loc[i, \"city\"] = correct_cities[i_city[0]]\n",
    "        correct_reg = right_reg[right_reg[\"city\"] == df.loc[i, \"city\"]][\"region\"].unique()\n",
    "        if len(correct_reg) == 1:\n",
    "            df.loc[i, \"region\"] = correct_reg[0]\n",
    "        elif len(correct_reg) == 0:\n",
    "            correct_reg = cities_db[cities_db[\"city\"] == wrong_reg.loc[i, \"city\"]][\"region_code\"].values\n",
    "            if len(correct_reg) == 1:\n",
    "                df.loc[i, \"region\"] = regions[str(correct_reg[0])]\n",
    "wrong_reg = df[~df[\"region\"].isin(reg_names)]\n",
    "right_reg = df[df[\"region\"].isin(reg_names)]"
   ]
  },
  {
   "cell_type": "markdown",
   "id": "aaf16861",
   "metadata": {},
   "source": [
    "Осталась проблема № 4. Для ее решения придется использовать город в url, а дальше действовать аналогично, подставляя регион из корректных данных. Переводить латиницу будем при помощи transliterate, а в сложных случаях API Yandex translate"
   ]
  },
  {
   "cell_type": "code",
   "execution_count": 42,
   "id": "b97288a8",
   "metadata": {},
   "outputs": [],
   "source": [
    "wrong_reg.loc[:, \"new\"] = wrong_reg[\"link\"].str.split(\"/\").str[3].map(lambda x: trsl.translit(x, \"ru\"))\n",
    "wrong_reg.loc[:, \"new\"] = wrong_reg.new.map(lambda word: word[:-1] + \"й\" if word[-2:] == \"ыы\" else word)\n",
    "wrong_reg.loc[:, \"new\"] = wrong_reg.new.map(lambda word: word[:-1] + \"й\" if word[-2:] == \"иы\" else word)\n",
    "wrong_reg.loc[:, \"new\"] = wrong_reg.new.map(lambda word: re.sub(r\"ыа\", \"я\", word))\n",
    "for i in wrong_reg.index:\n",
    "    if wrong_reg.loc[i, \"new\"] == \"москва\":\n",
    "        df.loc[i, \"city\"] = df.loc[i, \"region\"]\n",
    "        df.loc[i, \"region\"] = \"Москва\"\n",
    "    i_city = np.where(np.char.lower(correct_cities.astype(str)) == wrong_reg.loc[i, \"new\"])[0]\n",
    "    if len(i_city) == 1:\n",
    "        df.loc[i, \"city\"] = correct_cities[i_city[0]]\n",
    "        correct_reg = right_reg[right_reg[\"city\"] == df.loc[i, \"city\"]][\"region\"].unique()\n",
    "        if len(correct_reg) == 1:\n",
    "            df.loc[i, \"region\"] = correct_reg[0]\n",
    "        elif len(correct_reg) == 0:\n",
    "            correct_reg = cities_db[cities_db[\"city\"].str.lower() == wrong_reg.loc[i, \"new\"]][\"region_code\"].values\n",
    "            if len(correct_reg) == 1:\n",
    "                df.loc[i, \"region\"] = regions[str(correct_reg[0])]\n",
    "    else:\n",
    "        real_city = translate(\"city \" + wrong_reg.loc[i, \"link\"].split(\"/\")[3], IAM_TOKEN, folder_id)[6:]\n",
    "        if real_city != wrong_reg.loc[i, \"new\"]:\n",
    "            df.loc[i, \"city\"] = real_city\n",
    "            correct_reg = right_reg[right_reg[\"city\"] == df.loc[i, \"city\"]][\"region\"].unique()\n",
    "            if len(correct_reg) == 1:\n",
    "                df.loc[i, \"region\"] = correct_reg[0]\n",
    "            elif len(correct_reg) == 0:\n",
    "                correct_reg = cities_db[cities_db[\"city\"].str.lower() == wrong_reg.loc[i, \"new\"]][\"region_code\"].values\n",
    "                if len(correct_reg) == 1:\n",
    "                    df.loc[i, \"region\"] = regions[str(correct_reg[0])]            "
   ]
  },
  {
   "cell_type": "code",
   "execution_count": 43,
   "id": "219b8263",
   "metadata": {},
   "outputs": [
    {
     "data": {
      "text/html": [
       "<div>\n",
       "<style scoped>\n",
       "    .dataframe tbody tr th:only-of-type {\n",
       "        vertical-align: middle;\n",
       "    }\n",
       "\n",
       "    .dataframe tbody tr th {\n",
       "        vertical-align: top;\n",
       "    }\n",
       "\n",
       "    .dataframe thead th {\n",
       "        text-align: right;\n",
       "    }\n",
       "</style>\n",
       "<table border=\"1\" class=\"dataframe\">\n",
       "  <thead>\n",
       "    <tr style=\"text-align: right;\">\n",
       "      <th></th>\n",
       "      <th>region</th>\n",
       "      <th>city</th>\n",
       "    </tr>\n",
       "  </thead>\n",
       "  <tbody>\n",
       "    <tr>\n",
       "      <th>616</th>\n",
       "      <td>ул. Чкалова</td>\n",
       "      <td>Петрозаводск</td>\n",
       "    </tr>\n",
       "    <tr>\n",
       "      <th>764</th>\n",
       "      <td>Прудовая ул.</td>\n",
       "      <td>Удмуртия_Завьялово</td>\n",
       "    </tr>\n",
       "    <tr>\n",
       "      <th>814</th>\n",
       "      <td>Объячево</td>\n",
       "      <td>Объячево</td>\n",
       "    </tr>\n",
       "    <tr>\n",
       "      <th>1121</th>\n",
       "      <td>пр-т Строителей</td>\n",
       "      <td>Нижнекамск</td>\n",
       "    </tr>\n",
       "    <tr>\n",
       "      <th>1146</th>\n",
       "      <td>пр-т Химиков</td>\n",
       "      <td>Нижнекамск</td>\n",
       "    </tr>\n",
       "    <tr>\n",
       "      <th>1465</th>\n",
       "      <td>Тюменский район</td>\n",
       "      <td>Каскара</td>\n",
       "    </tr>\n",
       "    <tr>\n",
       "      <th>1574</th>\n",
       "      <td>ул. Ленина</td>\n",
       "      <td>Муравленко</td>\n",
       "    </tr>\n",
       "    <tr>\n",
       "      <th>1666</th>\n",
       "      <td>ул. Дьяченко</td>\n",
       "      <td>Амурская_Область_Благовещенск</td>\n",
       "    </tr>\n",
       "    <tr>\n",
       "      <th>1704</th>\n",
       "      <td>А-331 Вилюй</td>\n",
       "      <td>Усть-Кут</td>\n",
       "    </tr>\n",
       "    <tr>\n",
       "      <th>2070</th>\n",
       "      <td>ул. Тухачевского</td>\n",
       "      <td>Кемерово</td>\n",
       "    </tr>\n",
       "    <tr>\n",
       "      <th>2990</th>\n",
       "      <td>Россия</td>\n",
       "      <td>Байкит</td>\n",
       "    </tr>\n",
       "    <tr>\n",
       "      <th>3442</th>\n",
       "      <td>Р-132 Золотое кольцо</td>\n",
       "      <td>Новодугино</td>\n",
       "    </tr>\n",
       "    <tr>\n",
       "      <th>5349</th>\n",
       "      <td>пл. имени Я.М. Свердлова</td>\n",
       "      <td>Волгоградская_Область_Волжский</td>\n",
       "    </tr>\n",
       "    <tr>\n",
       "      <th>5373</th>\n",
       "      <td>Северная ул.</td>\n",
       "      <td>Красносельский</td>\n",
       "    </tr>\n",
       "    <tr>\n",
       "      <th>5528</th>\n",
       "      <td>пл. Первооткрывателей Башкирской Нефти</td>\n",
       "      <td>Ишимбай</td>\n",
       "    </tr>\n",
       "    <tr>\n",
       "      <th>5551</th>\n",
       "      <td>пр-т Гагарина 4-я линия</td>\n",
       "      <td>Златоуст</td>\n",
       "    </tr>\n",
       "    <tr>\n",
       "      <th>5894</th>\n",
       "      <td>Западная ул.</td>\n",
       "      <td>Целина</td>\n",
       "    </tr>\n",
       "    <tr>\n",
       "      <th>5921</th>\n",
       "      <td>Юбилейная ул.</td>\n",
       "      <td>Незлобная</td>\n",
       "    </tr>\n",
       "    <tr>\n",
       "      <th>6127</th>\n",
       "      <td>Московская ул.</td>\n",
       "      <td>Азов</td>\n",
       "    </tr>\n",
       "  </tbody>\n",
       "</table>\n",
       "</div>"
      ],
      "text/plain": [
       "                                      region                            city\n",
       "616                              ул. Чкалова                    Петрозаводск\n",
       "764                             Прудовая ул.              Удмуртия_Завьялово\n",
       "814                                 Объячево                        Объячево\n",
       "1121                         пр-т Строителей                      Нижнекамск\n",
       "1146                            пр-т Химиков                      Нижнекамск\n",
       "1465                         Тюменский район                         Каскара\n",
       "1574                              ул. Ленина                      Муравленко\n",
       "1666                            ул. Дьяченко   Амурская_Область_Благовещенск\n",
       "1704                             А-331 Вилюй                        Усть-Кут\n",
       "2070                        ул. Тухачевского                        Кемерово\n",
       "2990                                  Россия                          Байкит\n",
       "3442                    Р-132 Золотое кольцо                      Новодугино\n",
       "5349                пл. имени Я.М. Свердлова  Волгоградская_Область_Волжский\n",
       "5373                            Северная ул.                  Красносельский\n",
       "5528  пл. Первооткрывателей Башкирской Нефти                         Ишимбай\n",
       "5551                 пр-т Гагарина 4-я линия                        Златоуст\n",
       "5894                            Западная ул.                          Целина\n",
       "5921                           Юбилейная ул.                       Незлобная\n",
       "6127                          Московская ул.                            Азов"
      ]
     },
     "execution_count": 43,
     "metadata": {},
     "output_type": "execute_result"
    }
   ],
   "source": [
    "wrong_reg = df[~df[\"region\"].isin(reg_names)]\n",
    "wrong_reg[[\"region\", \"city\"]]"
   ]
  },
  {
   "cell_type": "markdown",
   "id": "c36c1509",
   "metadata": {},
   "source": [
    "Оставшиеся регионы можно проставить вручную, используя следующую функцию"
   ]
  },
  {
   "cell_type": "code",
   "execution_count": 44,
   "id": "7d652a77",
   "metadata": {},
   "outputs": [],
   "source": [
    "def check_regions_manual(df):\n",
    "    \"\"\"\n",
    "    Manually fill values about a city and a region haven't been fixed with the check_regions function\n",
    "    :param df: a dataframe with all information\n",
    "    :return: no return. Change the input dataframe\n",
    "    \"\"\"\n",
    "    reg_names = regions.values()\n",
    "    wrong_reg = df[~df[\"region\"].isin(reg_names)]\n",
    "    right_reg = df[df[\"region\"].isin(reg_names)]\n",
    "    wrong_reg.loc[:, \"new\"] = wrong_reg[\"link\"].str.split(\"/\").str[3].map(lambda x: trsl.translit(x, \"ru\"))\n",
    "    for i in wrong_reg.index:\n",
    "        city = input(\n",
    "            f\"Enter the right city. Enter 0 to drop the row. The city name from url is: \\n{wrong_reg.loc[i, 'city'].capitalize()}\")\n",
    "        if city == \"0\":\n",
    "            df.drop(labels=i, inplace=True)\n",
    "        else:\n",
    "            df.loc[i, \"city\"] = city\n",
    "            correct_reg = right_reg[right_reg[\"city\"] == df.loc[i, \"city\"]][\"region\"].unique()\n",
    "            if len(correct_reg) == 1:\n",
    "                region = input(\n",
    "                    f\"Enter the right region. Enter 1 if the region is {correct_reg[0]}. Otherwise enter code of the region\")\n",
    "                if region == \"1\":\n",
    "                    df.loc[i, \"region\"] = correct_reg[0]\n",
    "                else:\n",
    "                    df.loc[i, \"region\"] = regions[region]\n",
    "            else:\n",
    "                region = input(f\"Enter the code of the right region\")\n",
    "                df.loc[i, \"region\"] = regions[region]"
   ]
  },
  {
   "cell_type": "code",
   "execution_count": 45,
   "id": "404c169a",
   "metadata": {},
   "outputs": [
    {
     "data": {
      "text/plain": [
       "vin               4363\n",
       "is_owner             0\n",
       "is_promo          4363\n",
       "region               0\n",
       "city                 0\n",
       "brand                0\n",
       "model                0\n",
       "year                 0\n",
       "mileage              0\n",
       "count_owners         0\n",
       "air_condition        0\n",
       "color                0\n",
       "price                0\n",
       "en_capacity          0\n",
       "en_type              0\n",
       "en_power             0\n",
       "num_cylinders        0\n",
       "fuel_waste_mix       3\n",
       "body_type            0\n",
       "modification         0\n",
       "num_doors            0\n",
       "gearbox_type         0\n",
       "wheel_drive          7\n",
       "steering_wheel       0\n",
       "link                 0\n",
       "ad_date              0\n",
       "avito_id             0\n",
       "model_uid            0\n",
       "new                  0\n",
       "dtype: int64"
      ]
     },
     "execution_count": 45,
     "metadata": {},
     "output_type": "execute_result"
    }
   ],
   "source": [
    "df.isna().sum()"
   ]
  },
  {
   "cell_type": "markdown",
   "id": "245f5832",
   "metadata": {},
   "source": [
    "Можно удалить оставшиеся NaN значения перед загрузкой в базу данных, можно оставить если их наличие некритично"
   ]
  }
 ],
 "metadata": {
  "kernelspec": {
   "display_name": "Python 3 (ipykernel)",
   "language": "python",
   "name": "python3"
  },
  "language_info": {
   "codemirror_mode": {
    "name": "ipython",
    "version": 3
   },
   "file_extension": ".py",
   "mimetype": "text/x-python",
   "name": "python",
   "nbconvert_exporter": "python",
   "pygments_lexer": "ipython3",
   "version": "3.9.1"
  }
 },
 "nbformat": 4,
 "nbformat_minor": 5
}
